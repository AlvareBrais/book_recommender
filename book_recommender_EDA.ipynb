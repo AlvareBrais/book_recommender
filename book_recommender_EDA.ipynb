{
 "cells": [
  {
   "cell_type": "markdown",
   "metadata": {},
   "source": [
    "El ejercicio consta de 2 partes:\n",
    "\n",
    "    1º - Crear un sistema de recomendacion de libros\n",
    "    2º - Lanzar prueba para validarla, es decir, visualizar las recomendacion de libros para 3 o 4 usuarios\n",
    "\n",
    "Tenemos 3 archivos:\n",
    "Books.csv\n",
    "Users.csv\n",
    "Ratings.csv\n"
   ]
  },
  {
   "cell_type": "markdown",
   "metadata": {},
   "source": [
    "Importaciones"
   ]
  },
  {
   "cell_type": "code",
   "execution_count": 79,
   "metadata": {},
   "outputs": [],
   "source": [
    "import pandas as pd\n",
    "import matplotlib.pyplot as plt\n",
    "import seaborn as sns\n"
   ]
  },
  {
   "cell_type": "markdown",
   "metadata": {},
   "source": [
    "Analisis incial del archivo Books_csv"
   ]
  },
  {
   "cell_type": "code",
   "execution_count": 80,
   "metadata": {},
   "outputs": [
    {
     "name": "stdout",
     "output_type": "stream",
     "text": [
      "         ISBN                                                                                          Book-Title           Book-Author Year-Of-Publication                   Publisher                                                   Image-URL-S                                                   Image-URL-M                                                   Image-URL-L\n",
      "0  0195153448                                                                                 Classical Mythology    Mark P. O. Morford                2002     Oxford University Press  http://images.amazon.com/images/P/0195153448.01.THUMBZZZ.jpg  http://images.amazon.com/images/P/0195153448.01.MZZZZZZZ.jpg  http://images.amazon.com/images/P/0195153448.01.LZZZZZZZ.jpg\n",
      "1  0002005018                                                                                        Clara Callan  Richard Bruce Wright                2001       HarperFlamingo Canada  http://images.amazon.com/images/P/0002005018.01.THUMBZZZ.jpg  http://images.amazon.com/images/P/0002005018.01.MZZZZZZZ.jpg  http://images.amazon.com/images/P/0002005018.01.LZZZZZZZ.jpg\n",
      "2  0060973129                                                                                Decision in Normandy          Carlo D'Este                1991             HarperPerennial  http://images.amazon.com/images/P/0060973129.01.THUMBZZZ.jpg  http://images.amazon.com/images/P/0060973129.01.MZZZZZZZ.jpg  http://images.amazon.com/images/P/0060973129.01.LZZZZZZZ.jpg\n",
      "3  0374157065  Flu: The Story of the Great Influenza Pandemic of 1918 and the Search for the Virus That Caused It      Gina Bari Kolata                1999        Farrar Straus Giroux  http://images.amazon.com/images/P/0374157065.01.THUMBZZZ.jpg  http://images.amazon.com/images/P/0374157065.01.MZZZZZZZ.jpg  http://images.amazon.com/images/P/0374157065.01.LZZZZZZZ.jpg\n",
      "4  0393045218                                                                              The Mummies of Urumchi       E. J. W. Barber                1999  W. W. Norton &amp; Company  http://images.amazon.com/images/P/0393045218.01.THUMBZZZ.jpg  http://images.amazon.com/images/P/0393045218.01.MZZZZZZZ.jpg  http://images.amazon.com/images/P/0393045218.01.LZZZZZZZ.jpg\n"
     ]
    },
    {
     "name": "stderr",
     "output_type": "stream",
     "text": [
      "C:\\Users\\Brais\\AppData\\Local\\Temp\\ipykernel_9196\\2109444902.py:3: DtypeWarning: Columns (3) have mixed types. Specify dtype option on import or set low_memory=False.\n",
      "  books_df = pd.read_csv('Books.csv')\n"
     ]
    }
   ],
   "source": [
    "\n",
    "#Carga y visualizacion inicial\n",
    "#Leer el archivo CSV\n",
    "books_df = pd.read_csv('Books.csv')\n",
    "\n",
    "# Mostrar las primeras filas\n",
    "print(books_df.head().to_string())\n"
   ]
  },
  {
   "cell_type": "code",
   "execution_count": 81,
   "metadata": {},
   "outputs": [
    {
     "name": "stdout",
     "output_type": "stream",
     "text": [
      "Columnas del DataFrame:\n",
      "1. ISBN\n",
      "2. Book-Title\n",
      "3. Book-Author\n",
      "4. Year-Of-Publication\n",
      "5. Publisher\n",
      "6. Image-URL-S\n",
      "7. Image-URL-M\n",
      "8. Image-URL-L\n"
     ]
    }
   ],
   "source": [
    "#Mostrar las columnas de forma enumerada\n",
    "print(\"Columnas del DataFrame:\")\n",
    "for i, columna in enumerate(books_df.columns, 1): #Este numero 1, indica que el indice empieze en 1 y no en 0 por la funcion enumerate\n",
    "    print(f\"{i}. {columna}\")"
   ]
  },
  {
   "cell_type": "code",
   "execution_count": 82,
   "metadata": {},
   "outputs": [
    {
     "name": "stdout",
     "output_type": "stream",
     "text": [
      "(271360, 8)\n",
      "El DataFrame tiene 271360 filas y 8 columnas.\n"
     ]
    }
   ],
   "source": [
    "#Vemos cuantas filas y columnas contiene el archivo\n",
    "print(books_df.shape)\n",
    "#Una manera un poco mas elaborada de ver la informacion.\n",
    "num_filas, num_columns = books_df.shape\n",
    "# Mostrar el número de filas y columnas\n",
    "print(f\"El DataFrame tiene {num_filas} filas y {num_columns} columnas.\")"
   ]
  },
  {
   "cell_type": "code",
   "execution_count": 83,
   "metadata": {},
   "outputs": [
    {
     "name": "stdout",
     "output_type": "stream",
     "text": [
      "<class 'pandas.core.frame.DataFrame'>\n",
      "RangeIndex: 271360 entries, 0 to 271359\n",
      "Data columns (total 8 columns):\n",
      " #   Column               Non-Null Count   Dtype \n",
      "---  ------               --------------   ----- \n",
      " 0   ISBN                 271360 non-null  object\n",
      " 1   Book-Title           271360 non-null  object\n",
      " 2   Book-Author          271358 non-null  object\n",
      " 3   Year-Of-Publication  271360 non-null  object\n",
      " 4   Publisher            271358 non-null  object\n",
      " 5   Image-URL-S          271360 non-null  object\n",
      " 6   Image-URL-M          271360 non-null  object\n",
      " 7   Image-URL-L          271357 non-null  object\n",
      "dtypes: object(8)\n",
      "memory usage: 16.6+ MB\n",
      "None\n"
     ]
    }
   ],
   "source": [
    "#Mostramos los tipos de dato\n",
    "print(books_df.info())"
   ]
  },
  {
   "cell_type": "markdown",
   "metadata": {},
   "source": [
    "Todas las columnas son de tipo Object, lo que son cadenas de texto en pandas o str en python.\n",
    "La columna año de publicacion (Year-Of-Publication) en este formato indica variabilidad en la manera de expresarlo."
   ]
  },
  {
   "cell_type": "markdown",
   "metadata": {},
   "source": [
    "Analisis exploratorio (EDA) books.csv"
   ]
  },
  {
   "cell_type": "code",
   "execution_count": 84,
   "metadata": {},
   "outputs": [
    {
     "name": "stdout",
     "output_type": "stream",
     "text": [
      "Número total de filas: 271360\n",
      "Número de ISBN únicos: 271360\n",
      "Todos los ISBN son únicos.\n"
     ]
    }
   ],
   "source": [
    "#Comprobamos si se repite algun ISBN, y si es igual al numero de filas de la columna ISBN, lo que indica que no hay repeticiones\n",
    "#Contar el número total de filas en el DataFrame\n",
    "total_filas = books_df.shape[0]\n",
    "\n",
    "#Contar el número de valores únicos en la columna 'ISBN'\n",
    "num_isbn_unicos = books_df['ISBN'].nunique()\n",
    "\n",
    "print(\"Número total de filas:\", total_filas)\n",
    "print(\"Número de ISBN únicos:\", num_isbn_unicos)\n",
    "\n",
    "#Comparar si son iguales\n",
    "if total_filas == num_isbn_unicos:\n",
    "    print(\"Todos los ISBN son únicos.\")\n",
    "else:\n",
    "    print(\"Hay ISBN duplicados.\")"
   ]
  },
  {
   "cell_type": "code",
   "execution_count": 85,
   "metadata": {},
   "outputs": [
    {
     "name": "stdout",
     "output_type": "stream",
     "text": [
      "Número de autores únicos: 102022\n",
      "Número de editoriales únicas: 16807\n"
     ]
    }
   ],
   "source": [
    "#Contamos el numero de valores unicos para \"Book-author\" y \"Publisher\"\n",
    "#Columna \"Book-author\"\n",
    "num_autores_unicos = books_df['Book-Author'].nunique()\n",
    "\n",
    "#Columna \"Publisher\"\n",
    "num_editoriales_unicas = books_df['Publisher'].nunique()\n",
    "\n",
    "print(f\"Número de autores únicos: {num_autores_unicos}\")\n",
    "print(f\"Número de editoriales únicas: {num_editoriales_unicas}\")\n"
   ]
  },
  {
   "cell_type": "markdown",
   "metadata": {},
   "source": [
    "Observamos que tenemos una gran variedad de libros y editoriales"
   ]
  },
  {
   "cell_type": "code",
   "execution_count": 86,
   "metadata": {},
   "outputs": [
    {
     "name": "stdout",
     "output_type": "stream",
     "text": [
      "El año de publicación más viejo es: 0.0\n",
      "El año de publicación más nuevo es: 2050.0\n"
     ]
    }
   ],
   "source": [
    "#Me interesa saber el rango de años que hay en el dataset\n",
    "#Los datos en 'Year-Of-Publication' tienen que ser numéricos para poder manipularlos\n",
    "#Convertir a numérico y manejar posibles errores\n",
    "books_df['Year-Of-Publication'] = pd.to_numeric(books_df['Year-Of-Publication'], errors='coerce')\n",
    "\n",
    "#Encontrar el año más viejo (mínimo) y el más nuevo (máximo)\n",
    "anio_mas_viejo = books_df['Year-Of-Publication'].min()\n",
    "anio_mas_nuevo = books_df['Year-Of-Publication'].max()\n",
    "\n",
    "print(f\"El año de publicación más viejo es: {anio_mas_viejo}\")\n",
    "print(f\"El año de publicación más nuevo es: {anio_mas_nuevo}\")\n"
   ]
  },
  {
   "cell_type": "markdown",
   "metadata": {},
   "source": [
    "Claramente tenemos minimo un error, no se han podido publicar libros en el año 2050, sigamos analizando esta columna\n"
   ]
  },
  {
   "cell_type": "markdown",
   "metadata": {},
   "source": [
    "Consideramos errores a todas las publicaciones cuyo año sean mayores a 2023 (damos por hecho que no se han publicado libros en lo que llevamos de año)"
   ]
  },
  {
   "cell_type": "code",
   "execution_count": 87,
   "metadata": {},
   "outputs": [
    {
     "name": "stdout",
     "output_type": "stream",
     "text": [
      "Número de libros con año de publicación mayor a 2023: 0\n"
     ]
    }
   ],
   "source": [
    "#Converti 'Year-Of-Publication' a numérico, manejando errores\n",
    "books_df['Year-Of-Publication'] = pd.to_numeric(books_df['Year-Of-Publication'], errors='coerce')\n",
    "\n",
    "#Eliminar libros con año de publicación mayor a 2023, ya que son errores\n",
    "books_df = books_df[books_df['Year-Of-Publication'] <= 2023]\n",
    "#Comprobar que se han eliminado los libros con años de publicacion superior al año 2023\n",
    "libros_post_2023 = books_df[books_df['Year-Of-Publication'] > 2023]\n",
    "print(f\"Número de libros con año de publicación mayor a 2023: {libros_post_2023.shape[0]}\")\n"
   ]
  },
  {
   "cell_type": "markdown",
   "metadata": {},
   "source": [
    "Ahora veamos como se encuentran distribuido el año de publicacion"
   ]
  },
  {
   "cell_type": "code",
   "execution_count": 88,
   "metadata": {},
   "outputs": [
    {
     "data": {
      "image/png": "[encoded data removed]",
      "text/plain": [
       "<Figure size 640x480 with 1 Axes>"
      ]
     },
     "metadata": {},
     "output_type": "display_data"
    }
   ],
   "source": [
    "import matplotlib.pyplot as plt\n",
    "# Histograma de años de publicación\n",
    "books_df['Year-Of-Publication'].hist(bins=30)\n",
    "plt.title('Distribución de Años de Publicación')\n",
    "plt.xlabel('Año de Publicación')\n",
    "plt.ylabel('Cantidad de Libros')\n",
    "plt.show()\n"
   ]
  },
  {
   "cell_type": "markdown",
   "metadata": {},
   "source": [
    "Observamos que tenemos un conjunto importante de libros en el año 0, analizemos un poco mas este subconjunto de datos."
   ]
  },
  {
   "cell_type": "code",
   "execution_count": 89,
   "metadata": {},
   "outputs": [
    {
     "name": "stdout",
     "output_type": "stream",
     "text": [
      "176                                        Kabale Und Liebe\n",
      "188                                 Die Liebe in Den Zelten\n",
      "288                             Poisonwood Bible Edition Uk\n",
      "351            Herr Der Fliegen (Fiction, Poetry and Drama)\n",
      "542       Biblioteca Universale Rizzoli: Sulla Sponda De...\n",
      "                                ...                        \n",
      "270794                           Foe (Essential.penguin S.)\n",
      "270913                                       Postmens House\n",
      "271094                             El Misterio De Sittaford\n",
      "271182                                            Tom Penny\n",
      "271196                                       Der Hofmeister\n",
      "Name: Book-Title, Length: 4618, dtype: object\n",
      "Numero de titulos antes del año 5: 4618\n"
     ]
    }
   ],
   "source": [
    "#Convertir 'Year-Of-Publication' a numérico, manejando errores\n",
    "books_df['Year-Of-Publication'] = pd.to_numeric(books_df['Year-Of-Publication'], errors='coerce')\n",
    "\n",
    "# Filtrar libros publicados antes del año 5\n",
    "libros_pre_5 = books_df[books_df['Year-Of-Publication'] < 5]\n",
    "\n",
    "# Mostrar los títulos de estos libros\n",
    "titulos_pre_5 = libros_pre_5['Book-Title']\n",
    "print(titulos_pre_5)\n",
    "print(\"Numero de titulos antes del año 5:\" ,len(titulos_pre_5))\n"
   ]
  },
  {
   "cell_type": "code",
   "execution_count": 90,
   "metadata": {},
   "outputs": [
    {
     "name": "stdout",
     "output_type": "stream",
     "text": [
      "Numero de titulos del año 0: 4618\n"
     ]
    }
   ],
   "source": [
    "#Comprobemos cuantos de estos datos son del año de publicacion = 0.\n",
    "# Contar cuántos libros tienen el año de publicación igual a 0\n",
    "books_year_0 = books_df[books_df['Year-Of-Publication'] == 0]\n",
    "num_books_year_0 = books_year_0.shape[0]\n",
    "print(\"Numero de titulos del año 0:\" ,num_books_year_0)\n"
   ]
  },
  {
   "cell_type": "markdown",
   "metadata": {},
   "source": [
    "Vemos que los 4618 titulos cerca del rango 0, estan exactamente en el rango 0 por lo que los consideraremos error, y los eliminaremos del dataset."
   ]
  },
  {
   "cell_type": "markdown",
   "metadata": {},
   "source": [
    "Antes de realizar cambios en el dataframe, vamos a realizar un backup."
   ]
  },
  {
   "cell_type": "code",
   "execution_count": 91,
   "metadata": {},
   "outputs": [],
   "source": [
    "# Crear una copia de seguridad del df original\n",
    "books_df_backup = books_df.copy()"
   ]
  },
  {
   "cell_type": "code",
   "execution_count": 92,
   "metadata": {},
   "outputs": [],
   "source": [
    "#Eliminasmos los registros con año de publicacion = 0\n",
    "books_df = books_df[books_df['Year-Of-Publication'] != 0]"
   ]
  },
  {
   "cell_type": "code",
   "execution_count": 93,
   "metadata": {},
   "outputs": [
    {
     "data": {
      "image/png": "[encoded data removed]",
      "text/plain": [
       "<Figure size 640x480 with 1 Axes>"
      ]
     },
     "metadata": {},
     "output_type": "display_data"
    }
   ],
   "source": [
    "#Comprobamos que se haya eliminado\n",
    "import matplotlib.pyplot as plt\n",
    "#Histograma\n",
    "books_df['Year-Of-Publication'].hist(bins=30)\n",
    "plt.title('Distribución de Años de Publicación')\n",
    "plt.xlabel('Año de Publicación')\n",
    "plt.ylabel('Cantidad de Libros')\n",
    "plt.show()"
   ]
  },
  {
   "cell_type": "markdown",
   "metadata": {},
   "source": [
    "Vemos que se han eliminado esos registros sobrantes, pero siguen apareciendo registros en el año 1400.\n",
    "Comprobar libros entre 1400 y 1900"
   ]
  },
  {
   "cell_type": "code",
   "execution_count": 94,
   "metadata": {},
   "outputs": [
    {
     "name": "stdout",
     "output_type": "stream",
     "text": [
      "Numero de libros entre 1400 y 1900:  5\n"
     ]
    }
   ],
   "source": [
    "#Filtrar libros publicados entre 1400 y 1900\n",
    "libros_1400_1900 = books_df[(books_df['Year-Of-Publication'] >= 1400) & (books_df['Year-Of-Publication'] <= 1900)]\n",
    "\n",
    "# Contar cuántos libros hay en este rango\n",
    "num_libros_1400_1900 = libros_1400_1900.shape[0]\n",
    "print(\"Numero de libros entre 1400 y 1900: \" , num_libros_1400_1900)\n"
   ]
  },
  {
   "cell_type": "code",
   "execution_count": 95,
   "metadata": {},
   "outputs": [
    {
     "name": "stdout",
     "output_type": "stream",
     "text": [
      "        Year-Of-Publication                                                               Book-Title          Book-Author\n",
      "108555               1900.0  Is That a Gun in Your Pocket?: Women's Experience of Power in Hollywood    Rachel Abramowitz\n",
      "171817               1806.0         Complete Works 10 Volumes [2,6,7,8,9] (Notable American Authors)    Benjamin Franklin\n",
      "211854               1900.0         The Cycling Adventures of Coconut Head: A North American Odyssey          Ted Schredd\n",
      "245607               1897.0         Hugh Wynne, Free Quaker (2 Volumes (BCL1-PS American Literature)  Silas Weir Mitchell\n",
      "256444               1900.0       Help Yourself: Celebrating the Rewards of Resilience and Gratitude      David J. Pelzer\n"
     ]
    }
   ],
   "source": [
    "#Analizemos estos libros para ver si son datos erroneos o no\n",
    "\n",
    "#Seleccionar las columnas de interés: año de publicación, título y autor\n",
    "info_libros_1400_1900 = libros_1400_1900[['Year-Of-Publication', 'Book-Title', 'Book-Author']]\n",
    "\n",
    "#Imprimimos la información\n",
    "print(info_libros_1400_1900.to_string())\n"
   ]
  },
  {
   "cell_type": "code",
   "execution_count": 96,
   "metadata": {},
   "outputs": [
    {
     "name": "stdout",
     "output_type": "stream",
     "text": [
      "Número de filas antes de eliminar registros específicos: 266726\n",
      "Número de filas después de eliminar registros específicos: 266721\n"
     ]
    }
   ],
   "source": [
    "#Eliminamos estos libros ya que contienen errores  y representan una fraccion muy pequeña del total\n",
    "#otra opcion hubiera sido darles un valor predeterminado.\n",
    "#Eliminar los registros de libros entre 1400 y 1900\n",
    "#Filtrar libros publicados entre 1400 y 1900\n",
    "#comprobar el número de filas antes de la eliminación\n",
    "print(f\"Número de filas antes de eliminar registros específicos: {books_df.shape[0]}\")\n",
    "\n",
    "#Filtrar libros publicados entre 1400 y 1900\n",
    "libros_1400_1900 = books_df[(books_df['Year-Of-Publication'] >= 1400) & (books_df['Year-Of-Publication'] <= 1900)]\n",
    "\n",
    "#Eliminar estos registros de books_df\n",
    "books_df = books_df.drop(libros_1400_1900.index)\n",
    "\n",
    "#Comprobar el número de filas después de la eliminación\n",
    "print(f\"Número de filas después de eliminar registros específicos: {books_df.shape[0]}\")\n",
    "\n"
   ]
  },
  {
   "cell_type": "code",
   "execution_count": 97,
   "metadata": {},
   "outputs": [
    {
     "data": {
      "image/png": "[encoded data removed]",
      "text/plain": [
       "<Figure size 640x480 with 1 Axes>"
      ]
     },
     "metadata": {},
     "output_type": "display_data"
    }
   ],
   "source": [
    "# Crear un boxplot de los años de publicación\n",
    "plt.boxplot(books_df['Year-Of-Publication'].dropna())\n",
    "plt.title('Boxplot de Años de Publicación')\n",
    "plt.ylabel('Año de Publicación')\n",
    "plt.show()\n"
   ]
  },
  {
   "cell_type": "markdown",
   "metadata": {},
   "source": [
    "Por ultimo, vamos a eliminar las columnas con las imagenes, ya que no nos haran falta para el modelo de ML, que implementaremos, utilizaremos un metodo basado en contenido."
   ]
  },
  {
   "cell_type": "code",
   "execution_count": 98,
   "metadata": {},
   "outputs": [
    {
     "name": "stdout",
     "output_type": "stream",
     "text": [
      "         ISBN                                                                                          Book-Title           Book-Author  Year-Of-Publication                   Publisher\n",
      "0  0195153448                                                                                 Classical Mythology    Mark P. O. Morford               2002.0     Oxford University Press\n",
      "1  0002005018                                                                                        Clara Callan  Richard Bruce Wright               2001.0       HarperFlamingo Canada\n",
      "2  0060973129                                                                                Decision in Normandy          Carlo D'Este               1991.0             HarperPerennial\n",
      "3  0374157065  Flu: The Story of the Great Influenza Pandemic of 1918 and the Search for the Virus That Caused It      Gina Bari Kolata               1999.0        Farrar Straus Giroux\n",
      "4  0393045218                                                                              The Mummies of Urumchi       E. J. W. Barber               1999.0  W. W. Norton &amp; Company\n"
     ]
    }
   ],
   "source": [
    "# Eliminar columnas de imágenes del DataFrame\n",
    "columns_to_drop = ['Image-URL-S', 'Image-URL-M', 'Image-URL-L']\n",
    "books_df = books_df.drop(columns=columns_to_drop)\n",
    "\n",
    "# Verificar el DataFrame después de eliminar las columnas\n",
    "print(books_df.head().to_string())\n"
   ]
  },
  {
   "cell_type": "code",
   "execution_count": 99,
   "metadata": {},
   "outputs": [],
   "source": [
    "books_df.to_csv(r'C:\\Users\\Brais\\Desktop\\Overstand\\books_df.csv', index=False)\n"
   ]
  },
  {
   "cell_type": "markdown",
   "metadata": {},
   "source": [
    "---------------------------------------------------------------------------------------------------------------------------------------------"
   ]
  },
  {
   "cell_type": "markdown",
   "metadata": {},
   "source": [
    "Analisis inicial de archivo Users_csv"
   ]
  },
  {
   "cell_type": "code",
   "execution_count": 100,
   "metadata": {},
   "outputs": [
    {
     "name": "stdout",
     "output_type": "stream",
     "text": [
      "   User-ID                            Location   Age\n",
      "0        1                  nyc, new york, usa   NaN\n",
      "1        2           stockton, california, usa  18.0\n",
      "2        3     moscow, yukon territory, russia   NaN\n",
      "3        4           porto, v.n.gaia, portugal  17.0\n",
      "4        5  farnborough, hants, united kingdom   NaN\n",
      "5        6       santa monica, california, usa  61.0\n",
      "6        7                 washington, dc, usa   NaN\n",
      "7        8            timmins, ontario, canada   NaN\n",
      "8        9          germantown, tennessee, usa   NaN\n",
      "9       10          albacete, wisconsin, spain  26.0\n"
     ]
    }
   ],
   "source": [
    "#Carga y visualizacion inicial\n",
    "\n",
    "users_df = pd.read_csv('Users.csv')\n",
    "\n",
    "#Mostramos las primeras 10 filas\n",
    "print(users_df.head(10))"
   ]
  },
  {
   "cell_type": "code",
   "execution_count": 101,
   "metadata": {},
   "outputs": [
    {
     "name": "stdout",
     "output_type": "stream",
     "text": [
      "Columnas del DataFrame:\n",
      "1. User-ID\n",
      "2. Location\n",
      "3. Age\n"
     ]
    }
   ],
   "source": [
    "#Mostrar las columnas\n",
    "print(\"Columnas del DataFrame:\")\n",
    "for i, columna in enumerate(users_df.columns, 1): #Este numero 1, indica que el indice empieze en 1 y no en 0 por la funcion enumerate\n",
    "    print(f\"{i}. {columna}\")"
   ]
  },
  {
   "cell_type": "code",
   "execution_count": 102,
   "metadata": {},
   "outputs": [
    {
     "name": "stdout",
     "output_type": "stream",
     "text": [
      "(278858, 3)\n",
      "El DataFrame tiene 278858 filas y 3 columnas.\n"
     ]
    }
   ],
   "source": [
    "#Vemos cuantas filas y columnas contiene el archivo\n",
    "print(users_df.shape)\n",
    "#Una manera un poco mas elaborada de dar la informacion.\n",
    "num_filas, num_columns = users_df.shape\n",
    "#ostrar el número de filas y columnas\n",
    "print(f\"El DataFrame tiene {num_filas} filas y {num_columns} columnas.\")"
   ]
  },
  {
   "cell_type": "markdown",
   "metadata": {},
   "source": [
    "Analisis exploratorio (EDA) Users.csv"
   ]
  },
  {
   "cell_type": "code",
   "execution_count": 103,
   "metadata": {},
   "outputs": [
    {
     "name": "stdout",
     "output_type": "stream",
     "text": [
      "<class 'pandas.core.frame.DataFrame'>\n",
      "RangeIndex: 278858 entries, 0 to 278857\n",
      "Data columns (total 3 columns):\n",
      " #   Column    Non-Null Count   Dtype  \n",
      "---  ------    --------------   -----  \n",
      " 0   User-ID   278858 non-null  int64  \n",
      " 1   Location  278858 non-null  object \n",
      " 2   Age       168096 non-null  float64\n",
      "dtypes: float64(1), int64(1), object(1)\n",
      "memory usage: 6.4+ MB\n",
      "None\n",
      "User-ID          0\n",
      "Location         0\n",
      "Age         110762\n",
      "dtype: int64\n"
     ]
    }
   ],
   "source": [
    "#Información sobre los tipos de datos y valores nulos\n",
    "print(users_df.info())\n",
    "print(users_df.isnull().sum())"
   ]
  },
  {
   "cell_type": "markdown",
   "metadata": {},
   "source": [
    "Vemos como la columna \"Age\" tiene un numero muy elevado de valores nulos \"110762\" que tenemos que manejar."
   ]
  },
  {
   "cell_type": "markdown",
   "metadata": {},
   "source": [
    "Antes de hacer cualquier cambio en el df original, hacemos una copia/backup"
   ]
  },
  {
   "cell_type": "code",
   "execution_count": 104,
   "metadata": {},
   "outputs": [],
   "source": [
    "users_df_backup = users_df.copy()"
   ]
  },
  {
   "cell_type": "markdown",
   "metadata": {},
   "source": [
    "Vamos a ver en mas detalle la columna \"Age\", como se distribuye mediante un grafico"
   ]
  },
  {
   "cell_type": "code",
   "execution_count": 105,
   "metadata": {},
   "outputs": [
    {
     "data": {
      "image/png": "[encoded data removed]",
      "text/plain": [
       "<Figure size 640x480 with 1 Axes>"
      ]
     },
     "metadata": {},
     "output_type": "display_data"
    }
   ],
   "source": [
    "import matplotlib.pyplot as plt\n",
    "\n",
    "#Histograma de la columna 'Age'\n",
    "users_df['Age'].hist(bins=50)\n",
    "plt.title('Distribución de Edades')\n",
    "plt.xlabel('Edad')\n",
    "plt.ylabel('Frecuencia')\n",
    "plt.show()\n"
   ]
  },
  {
   "cell_type": "markdown",
   "metadata": {},
   "source": [
    "Observamos que hay usuarios con mas de 100 años, veamos si es un error."
   ]
  },
  {
   "cell_type": "code",
   "execution_count": 106,
   "metadata": {},
   "outputs": [
    {
     "name": "stdout",
     "output_type": "stream",
     "text": [
      "Número de usuarios con 100 años o más: 373\n"
     ]
    }
   ],
   "source": [
    "#Contar usuarios con edad mayor o igual a 100\n",
    "usuarios_100_o_mas = users_df[users_df['Age'] >= 100]\n",
    "cantidad_usuarios_100_o_mas = usuarios_100_o_mas.shape[0]\n",
    "print(f\"Número de usuarios con 100 años o más: {cantidad_usuarios_100_o_mas}\")\n"
   ]
  },
  {
   "cell_type": "markdown",
   "metadata": {},
   "source": [
    "Vamos a borrar estos registros de usuarios ya que pensamos que es un error."
   ]
  },
  {
   "cell_type": "code",
   "execution_count": 107,
   "metadata": {},
   "outputs": [
    {
     "name": "stdout",
     "output_type": "stream",
     "text": [
      "Número de usuarios con 100 años o más: 0\n"
     ]
    }
   ],
   "source": [
    "#Eliminamos usuarios con edad mayor o igual a 100\n",
    "users_df = users_df[users_df['Age'] < 100]\n",
    "\n",
    "#Contamos usuarios con edad mayor o igual a 100\n",
    "num_usuarios_mayores_100 = users_df[users_df['Age'] >= 100].shape[0]\n",
    "# Mostrar el número de usuarios con 100 años o más\n",
    "print(f\"Número de usuarios con 100 años o más: {num_usuarios_mayores_100}\")"
   ]
  },
  {
   "cell_type": "markdown",
   "metadata": {},
   "source": [
    "Analizemos los valores bajos de la columna \"Age\""
   ]
  },
  {
   "cell_type": "code",
   "execution_count": 108,
   "metadata": {},
   "outputs": [
    {
     "name": "stdout",
     "output_type": "stream",
     "text": [
      "Número de usuarios menores de 16 años: 6696\n",
      "Número de usuarios con edad menor a 10 años: 1069\n",
      "Número de usuarios con edad menor a 5 años: 882\n",
      "Número de usuarios con edad igual a 0: 416\n"
     ]
    }
   ],
   "source": [
    "#usuarios con edad menor a 16\n",
    "num_usuarios_menores_16 = users_df[users_df['Age'] < 16].shape[0]\n",
    "\n",
    "#número de usuarios menores de 16 años\n",
    "print(f\"Número de usuarios menores de 16 años: {num_usuarios_menores_16}\")\n",
    "\n",
    "#usuarios con edad menor a 10\n",
    "num_usuarios_menores_10 = users_df[users_df['Age'] < 10].shape[0]\n",
    "print(f\"Número de usuarios con edad menor a 10 años: {num_usuarios_menores_10}\")\n",
    "\n",
    "#usuarios con edad menor a 5\n",
    "num_usuarios_menores_5 = users_df[users_df['Age'] < 5].shape[0]\n",
    "print(f\"Número de usuarios con edad menor a 5 años: {num_usuarios_menores_5}\")\n",
    "\n",
    "#usuarios con edad igual a 0\n",
    "num_usuarios_edad_0 = users_df[users_df['Age'] == 0].shape[0]\n",
    "\n",
    "#Mostramos el número de usuarios con edad 0\n",
    "print(f\"Número de usuarios con edad igual a 0: {num_usuarios_edad_0}\")\n",
    "\n"
   ]
  },
  {
   "cell_type": "markdown",
   "metadata": {},
   "source": [
    "Eliminamos a los usuarios menores de 16 años, suponiendo que en nuestra aplicacion  o web, se pueda registrarse a partir de esa edad."
   ]
  },
  {
   "cell_type": "code",
   "execution_count": 109,
   "metadata": {},
   "outputs": [],
   "source": [
    "users_df = users_df[users_df['Age'] >= 16]\n"
   ]
  },
  {
   "cell_type": "markdown",
   "metadata": {},
   "source": [
    "Ahora comprobamos que no existen usuarios mayores a 100 ni menores de 16 años."
   ]
  },
  {
   "cell_type": "code",
   "execution_count": 110,
   "metadata": {},
   "outputs": [
    {
     "name": "stdout",
     "output_type": "stream",
     "text": [
      "Número de usuarios con edad menor a 16 años: 0\n",
      "Número de usuarios con edad mayor a 100 años: 0\n"
     ]
    }
   ],
   "source": [
    "#Comprobar si hay usuarios con edad menor a 16\n",
    "num_usuarios_menores_16 = users_df[users_df['Age'] < 16].shape[0]\n",
    "print(f\"Número de usuarios con edad menor a 16 años: {num_usuarios_menores_16}\")\n",
    "\n",
    "#Comprobar si hay usuarios con edad mayor a 100\n",
    "num_usuarios_mayores_100 = users_df[users_df['Age'] > 100].shape[0]\n",
    "print(f\"Número de usuarios con edad mayor a 100 años: {num_usuarios_mayores_100}\")\n",
    "\n"
   ]
  },
  {
   "cell_type": "code",
   "execution_count": 111,
   "metadata": {},
   "outputs": [
    {
     "data": {
      "image/png": "[encoded data removed]",
      "text/plain": [
       "<Figure size 640x480 with 1 Axes>"
      ]
     },
     "metadata": {},
     "output_type": "display_data"
    }
   ],
   "source": [
    "#Histograma de la columna 'Age' con límite de eje x hasta 100, se han eliminado los registos \"Age\" >= 100 y < 16.\n",
    "plt.hist(users_df['Age'], bins=30, range=(0, 100))\n",
    "plt.title('Distribución de Edades (hasta 100 años)')\n",
    "plt.xlabel('Edad')\n",
    "plt.ylabel('Frecuencia')\n",
    "plt.show()\n"
   ]
  },
  {
   "cell_type": "code",
   "execution_count": 112,
   "metadata": {},
   "outputs": [
    {
     "name": "stdout",
     "output_type": "stream",
     "text": [
      "33.0\n",
      "35.497755034869925\n"
     ]
    }
   ],
   "source": [
    "#Calculamos la mediana y la media\n",
    "median_age = users_df['Age'].median()\n",
    "print(median_age)\n",
    "mean_age = users_df['Age'].mean()\n",
    "print(mean_age)\n"
   ]
  },
  {
   "cell_type": "markdown",
   "metadata": {},
   "source": [
    "Para la gestion de los valores nulos de age, podemos eliminarlos o darles un valor, vamos a darles el valor de la mediana."
   ]
  },
  {
   "cell_type": "code",
   "execution_count": 113,
   "metadata": {},
   "outputs": [],
   "source": [
    "users_df['Age'].fillna(median_age, inplace=True)"
   ]
  },
  {
   "cell_type": "code",
   "execution_count": 114,
   "metadata": {},
   "outputs": [
    {
     "name": "stdout",
     "output_type": "stream",
     "text": [
      "Número de valores nulos en la columna 'Age' después de la sustitución: 0\n"
     ]
    }
   ],
   "source": [
    "#Contar y mostrar el número de valores nulos en la columna Age después de la sustitución\n",
    "num_valores_nulos_age = users_df['Age'].isnull().sum()\n",
    "print(f\"Número de valores nulos en la columna 'Age' después de la sustitución: {num_valores_nulos_age}\")\n"
   ]
  },
  {
   "cell_type": "markdown",
   "metadata": {},
   "source": [
    "Por ultimo, comprobamos que la columna Id, no tenga valores repetidos, ya sabemos que no tiene nulos.\n",
    "Podemos hacer un pequeño script por si nos hace falta en el futuro como el siguiente."
   ]
  },
  {
   "cell_type": "code",
   "execution_count": 115,
   "metadata": {},
   "outputs": [
    {
     "name": "stdout",
     "output_type": "stream",
     "text": [
      "Número de IDs únicos: 161027\n",
      "Número total de filas: 161027\n",
      "No hay IDs repetidos.\n"
     ]
    }
   ],
   "source": [
    "#Contar el número total de IDs únicos\n",
    "num_ids_unicos = users_df['User-ID'].nunique()\n",
    "\n",
    "#Comparar con el número total de filas en el DataFrame\n",
    "num_total_filas = users_df.shape[0]\n",
    "\n",
    "#Imprimir resultados\n",
    "print(f\"Número de IDs únicos: {num_ids_unicos}\")\n",
    "print(f\"Número total de filas: {num_total_filas}\")\n",
    "\n",
    "#Verificar si son iguales\n",
    "if num_ids_unicos == num_total_filas:\n",
    "    print(\"No hay IDs repetidos.\")\n",
    "else:\n",
    "    print(\"Hay IDs repetidos.\")\n"
   ]
  },
  {
   "cell_type": "markdown",
   "metadata": {},
   "source": [
    "Analizemos la columna \"Location\""
   ]
  },
  {
   "cell_type": "code",
   "execution_count": 116,
   "metadata": {},
   "outputs": [
    {
     "data": {
      "text/html": [
       "<div>\n",
       "<style scoped>\n",
       "    .dataframe tbody tr th:only-of-type {\n",
       "        vertical-align: middle;\n",
       "    }\n",
       "\n",
       "    .dataframe tbody tr th {\n",
       "        vertical-align: top;\n",
       "    }\n",
       "\n",
       "    .dataframe thead th {\n",
       "        text-align: right;\n",
       "    }\n",
       "</style>\n",
       "<table border=\"1\" class=\"dataframe\">\n",
       "  <thead>\n",
       "    <tr style=\"text-align: right;\">\n",
       "      <th></th>\n",
       "      <th>User-ID</th>\n",
       "      <th>Location</th>\n",
       "      <th>Age</th>\n",
       "    </tr>\n",
       "  </thead>\n",
       "  <tbody>\n",
       "    <tr>\n",
       "      <th>0</th>\n",
       "      <td>1</td>\n",
       "      <td>nyc, new york, usa</td>\n",
       "      <td>NaN</td>\n",
       "    </tr>\n",
       "    <tr>\n",
       "      <th>1</th>\n",
       "      <td>2</td>\n",
       "      <td>stockton, california, usa</td>\n",
       "      <td>18.0</td>\n",
       "    </tr>\n",
       "    <tr>\n",
       "      <th>2</th>\n",
       "      <td>3</td>\n",
       "      <td>moscow, yukon territory, russia</td>\n",
       "      <td>NaN</td>\n",
       "    </tr>\n",
       "    <tr>\n",
       "      <th>3</th>\n",
       "      <td>4</td>\n",
       "      <td>porto, v.n.gaia, portugal</td>\n",
       "      <td>17.0</td>\n",
       "    </tr>\n",
       "    <tr>\n",
       "      <th>4</th>\n",
       "      <td>5</td>\n",
       "      <td>farnborough, hants, united kingdom</td>\n",
       "      <td>NaN</td>\n",
       "    </tr>\n",
       "  </tbody>\n",
       "</table>\n",
       "</div>"
      ],
      "text/plain": [
       "   User-ID                            Location   Age\n",
       "0        1                  nyc, new york, usa   NaN\n",
       "1        2           stockton, california, usa  18.0\n",
       "2        3     moscow, yukon territory, russia   NaN\n",
       "3        4           porto, v.n.gaia, portugal  17.0\n",
       "4        5  farnborough, hants, united kingdom   NaN"
      ]
     },
     "execution_count": 116,
     "metadata": {},
     "output_type": "execute_result"
    }
   ],
   "source": [
    "users_df_backup.head()"
   ]
  },
  {
   "cell_type": "code",
   "execution_count": 117,
   "metadata": {},
   "outputs": [
    {
     "name": "stdout",
     "output_type": "stream",
     "text": [
      "    User-ID                                Location   Age          Ciudad               Región       País\n",
      "1         2               stockton, california, usa  18.0        stockton           california        usa\n",
      "3         4               porto, v.n.gaia, portugal  17.0           porto             v.n.gaia   portugal\n",
      "5         6           santa monica, california, usa  61.0    santa monica           california        usa\n",
      "9        10              albacete, wisconsin, spain  26.0        albacete            wisconsin      spain\n",
      "12       13             barcelona, barcelona, spain  26.0       barcelona            barcelona      spain\n",
      "17       18  rio de janeiro, rio de janeiro, brazil  25.0  rio de janeiro       rio de janeiro     brazil\n",
      "19       20            langhorne, pennsylvania, usa  19.0       langhorne         pennsylvania        usa\n",
      "20       21          ferrol / spain, alabama, spain  46.0  ferrol / spain              alabama      spain\n",
      "23       24                   cologne, nrw, germany  19.0         cologne                  nrw    germany\n",
      "24       25                oakland, california, usa  55.0         oakland           california        usa\n",
      "26       27                  chicago, illinois, usa  32.0         chicago             illinois        usa\n",
      "27       28   freiburg, baden-wuerttemberg, germany  24.0        freiburg   baden-wuerttemberg    germany\n",
      "28       29             cuernavaca, alabama, mexico  19.0      cuernavaca              alabama     mexico\n",
      "29       30                  anchorage, alaska, usa  24.0       anchorage               alaska        usa\n",
      "30       31                    shanghai, n/a, china  20.0        shanghai                  n/a      china\n",
      "32       33             costa mesa, california, usa  34.0      costa mesa           california        usa\n",
      "34       35                 grafton, wisconsin, usa  17.0         grafton            wisconsin        usa\n",
      "35       36                montreal, quebec, canada  24.0        montreal               quebec     canada\n",
      "36       37               san sebastian, n/a, spain  23.0   san sebastian                  n/a      spain\n",
      "37       38                   viterbo, lazio, italy  34.0         viterbo                lazio      italy\n"
     ]
    }
   ],
   "source": [
    "#Dividir la columna 'Location' en tres partes y manejar filas con formato diferente\n",
    "location_parts = users_df['Location'].str.split(',', n=2, expand=True)\n",
    "\n",
    "#Si hay más de tres partes, solo tomamos las primeras tres\n",
    "location_parts = location_parts.iloc[:, :3]\n",
    "\n",
    "#Asignar nombres a las nuevas columnas\n",
    "location_parts.columns = ['Ciudad', 'Región', 'País']\n",
    "\n",
    "#Llenar los valores faltantes con un valor por defecto o NaN\n",
    "location_parts['Ciudad'].fillna('Desconocido', inplace=True)\n",
    "location_parts['Región'].fillna('Desconocido', inplace=True)\n",
    "location_parts['País'].fillna('Desconocido', inplace=True)\n",
    "\n",
    "#Añadir estas nuevas columnas al DataFrame original\n",
    "users_df[['Ciudad', 'Región', 'País']] = location_parts\n",
    "\n",
    "#Ver las primeras filas del DataFrame actualizado\n",
    "print(users_df.head(20).to_string())\n"
   ]
  },
  {
   "cell_type": "markdown",
   "metadata": {},
   "source": [
    "Observamos que la columna region muchas veces esta mal, vamos a eliminarla del dataframe."
   ]
  },
  {
   "cell_type": "code",
   "execution_count": 118,
   "metadata": {},
   "outputs": [
    {
     "name": "stdout",
     "output_type": "stream",
     "text": [
      "    User-ID                       Location   Age        Ciudad       País\n",
      "1         2      stockton, california, usa  18.0      stockton        usa\n",
      "3         4      porto, v.n.gaia, portugal  17.0         porto   portugal\n",
      "5         6  santa monica, california, usa  61.0  santa monica        usa\n",
      "9        10     albacete, wisconsin, spain  26.0      albacete      spain\n",
      "12       13    barcelona, barcelona, spain  26.0     barcelona      spain\n"
     ]
    }
   ],
   "source": [
    "#Eliminamos 'Región' del DataFrame users_df\n",
    "users_df.drop(columns=['Región'], inplace=True)\n",
    "\n",
    "#Comprobamos los datos\n",
    "print(users_df.head().to_string())\n"
   ]
  },
  {
   "cell_type": "markdown",
   "metadata": {},
   "source": [
    "Veamos cuantos paises hay en nuestro data frame y cuantas veves se repiten"
   ]
  },
  {
   "cell_type": "code",
   "execution_count": 119,
   "metadata": {},
   "outputs": [
    {
     "name": "stdout",
     "output_type": "stream",
     "text": [
      "País\n",
      " usa                                 73257\n",
      " spain                               12188\n",
      " united kingdom                      11965\n",
      " canada                              10831\n",
      " germany                             10346\n",
      "                                     ...  \n",
      " hubei province, hong kong               1\n",
      "bagan datoh, perak, n/a, malaysia        1\n",
      " sao tome and principe\"                  1\n",
      " molise, china                           1\n",
      " palau                                   1\n",
      "Name: count, Length: 780, dtype: int64\n",
      "Número total de países únicos: 780\n"
     ]
    }
   ],
   "source": [
    "#Contar la frecuencia de cada país en la columna 'País'\n",
    "frecuencia_paises = users_df['País'].value_counts()\n",
    "\n",
    "#Mostrar la frecuencia de los países\n",
    "print(frecuencia_paises)\n",
    "\n",
    "#Mostrar el número total de países únicos\n",
    "print(f\"Número total de países únicos: {users_df['País'].nunique()}\")\n"
   ]
  },
  {
   "cell_type": "markdown",
   "metadata": {},
   "source": [
    "Veamos una distribucion grafica de los 5 paises con mas usuarios"
   ]
  },
  {
   "cell_type": "code",
   "execution_count": 120,
   "metadata": {},
   "outputs": [
    {
     "data": {
      "image/png": "[encoded data removed]",
      "text/plain": [
       "<Figure size 1000x600 with 1 Axes>"
      ]
     },
     "metadata": {},
     "output_type": "display_data"
    }
   ],
   "source": [
    "top_paises = frecuencia_paises.head(5)\n",
    "\n",
    "#Creamos una gráfica de barras para ver mejor los datos\n",
    "plt.figure(figsize=(10, 6))\n",
    "top_paises.plot(kind='bar', color='skyblue')\n",
    "plt.title('Top 5 Países con Más Usuarios')\n",
    "plt.xlabel('País')\n",
    "plt.ylabel('Número de Usuarios')\n",
    "plt.xticks(rotation=45) #Rotamos las etquiteas de los paises para que se vean mejor.\n",
    "plt.show()\n"
   ]
  },
  {
   "cell_type": "code",
   "execution_count": 121,
   "metadata": {},
   "outputs": [],
   "source": [
    "users_df.to_csv(r'C:\\Users\\Brais\\Desktop\\Overstand\\users_df.csv', index=False)"
   ]
  },
  {
   "cell_type": "markdown",
   "metadata": {},
   "source": [
    "-------------------------------------------------------------------------------------------------------------------------------------"
   ]
  },
  {
   "cell_type": "markdown",
   "metadata": {},
   "source": [
    "Archivo Ratingss.csv"
   ]
  },
  {
   "cell_type": "code",
   "execution_count": 122,
   "metadata": {},
   "outputs": [
    {
     "name": "stdout",
     "output_type": "stream",
     "text": [
      "   User-ID        ISBN  Book-Rating\n",
      "0   276725  034545104X            0\n",
      "1   276726  0155061224            5\n",
      "2   276727  0446520802            0\n",
      "3   276729  052165615X            3\n",
      "4   276729  0521795028            6\n",
      "5   276733  2080674722            0\n",
      "6   276736  3257224281            8\n",
      "7   276737  0600570967            6\n",
      "8   276744  038550120X            7\n",
      "9   276745   342310538           10\n"
     ]
    }
   ],
   "source": [
    "#Carga y visualizacion inicial\n",
    "#Leer el archivo CSV\n",
    "ratings_df = pd.read_csv('Ratings.csv')\n",
    "\n",
    "#Mostrar las primeras 10 filas\n",
    "print(ratings_df.head(10))\n"
   ]
  },
  {
   "cell_type": "code",
   "execution_count": 123,
   "metadata": {},
   "outputs": [
    {
     "name": "stdout",
     "output_type": "stream",
     "text": [
      "Columnas del DataFrame:\n",
      "1. User-ID\n",
      "2. ISBN\n",
      "3. Book-Rating\n"
     ]
    }
   ],
   "source": [
    "#Mostrar las columnas\n",
    "print(\"Columnas del DataFrame:\")\n",
    "for i, columna in enumerate(ratings_df.columns, 1): #Este numero 1, indica que el indice empieze en 1 y no en 0 por la funcion enumerate\n",
    "    print(f\"{i}. {columna}\")"
   ]
  },
  {
   "cell_type": "code",
   "execution_count": 124,
   "metadata": {},
   "outputs": [
    {
     "name": "stdout",
     "output_type": "stream",
     "text": [
      "(1149780, 3)\n",
      "El DataFrame tiene 1149780 filas y 3 columnas.\n"
     ]
    }
   ],
   "source": [
    "#Vemos cuantas filas y columnas contiene el archivo\n",
    "print(ratings_df.shape)\n",
    "#Una manera un poco mas elaborada de dar la informacion.\n",
    "num_filas, num_columns = ratings_df.shape\n",
    "#Mostrar el número de filas y columnas\n",
    "print(f\"El DataFrame tiene {num_filas} filas y {num_columns} columnas.\")"
   ]
  },
  {
   "cell_type": "code",
   "execution_count": 125,
   "metadata": {},
   "outputs": [
    {
     "name": "stdout",
     "output_type": "stream",
     "text": [
      "<class 'pandas.core.frame.DataFrame'>\n",
      "RangeIndex: 1149780 entries, 0 to 1149779\n",
      "Data columns (total 3 columns):\n",
      " #   Column       Non-Null Count    Dtype \n",
      "---  ------       --------------    ----- \n",
      " 0   User-ID      1149780 non-null  int64 \n",
      " 1   ISBN         1149780 non-null  object\n",
      " 2   Book-Rating  1149780 non-null  int64 \n",
      "dtypes: int64(2), object(1)\n",
      "memory usage: 26.3+ MB\n"
     ]
    },
    {
     "data": {
      "text/plain": [
       "User-ID        0\n",
       "ISBN           0\n",
       "Book-Rating    0\n",
       "dtype: int64"
      ]
     },
     "execution_count": 125,
     "metadata": {},
     "output_type": "execute_result"
    }
   ],
   "source": [
    "ratings_df.info()\n",
    "\n",
    "ratings_df.isna().sum()"
   ]
  },
  {
   "cell_type": "markdown",
   "metadata": {},
   "source": [
    "Analisis exploratorio (EDA) Ratings.csv"
   ]
  },
  {
   "cell_type": "code",
   "execution_count": 126,
   "metadata": {},
   "outputs": [
    {
     "name": "stdout",
     "output_type": "stream",
     "text": [
      "   User-ID        ISBN  Book-Rating\n",
      "0   276725  034545104X            0\n",
      "1   276726  0155061224            5\n",
      "2   276727  0446520802            0\n",
      "3   276729  052165615X            3\n",
      "4   276729  0521795028            6\n"
     ]
    }
   ],
   "source": [
    "#Mostramos las primeras 5 filas\n",
    "print(ratings_df.head(5))"
   ]
  },
  {
   "cell_type": "markdown",
   "metadata": {},
   "source": [
    "Cada vez que se repita el User-ID, sera una valoracion a un libro, entonces vamos a ver los usuarios que mas libros han valorado."
   ]
  },
  {
   "cell_type": "code",
   "execution_count": 127,
   "metadata": {},
   "outputs": [
    {
     "name": "stdout",
     "output_type": "stream",
     "text": [
      "User-ID\n",
      "11676     13602\n",
      "198711     7550\n",
      "153662     6109\n",
      "98391      5891\n",
      "35859      5850\n",
      "212898     4785\n",
      "278418     4533\n",
      "76352      3367\n",
      "110973     3100\n",
      "235105     3067\n",
      "230522     2991\n",
      "16795      2948\n",
      "234623     2674\n",
      "36836      2529\n",
      "52584      2512\n",
      "Name: count, dtype: int64\n"
     ]
    }
   ],
   "source": [
    "top_users = ratings_df['User-ID'].value_counts().head(15)\n",
    "print(top_users)"
   ]
  },
  {
   "cell_type": "markdown",
   "metadata": {},
   "source": [
    "Vamos a eliminar al usuario con 13602 calificaciones, ya que pensamos que se trata de un error."
   ]
  },
  {
   "cell_type": "code",
   "execution_count": 128,
   "metadata": {},
   "outputs": [
    {
     "name": "stdout",
     "output_type": "stream",
     "text": [
      "User-ID\n",
      "198711    7550\n",
      "153662    6109\n",
      "98391     5891\n",
      "35859     5850\n",
      "212898    4785\n",
      "278418    4533\n",
      "76352     3367\n",
      "110973    3100\n",
      "235105    3067\n",
      "230522    2991\n",
      "16795     2948\n",
      "234623    2674\n",
      "36836     2529\n",
      "52584     2512\n",
      "245963    2507\n",
      "Name: count, dtype: int64\n"
     ]
    }
   ],
   "source": [
    "ratings_df = ratings_df[ratings_df['User-ID'] != 11676]\n",
    "#Comprobamos que se haya eliminado correctamente\n",
    "top_users = ratings_df['User-ID'].value_counts().head(15)\n",
    "print(top_users)"
   ]
  },
  {
   "cell_type": "markdown",
   "metadata": {},
   "source": [
    "Calculamos la media de las calificaciones por usuario"
   ]
  },
  {
   "cell_type": "code",
   "execution_count": 129,
   "metadata": {},
   "outputs": [
    {
     "name": "stdout",
     "output_type": "stream",
     "text": [
      "User-ID\n",
      "2         0.000000\n",
      "7         0.000000\n",
      "8         2.166667\n",
      "9         2.000000\n",
      "10        3.000000\n",
      "            ...   \n",
      "278846    4.000000\n",
      "278849    2.250000\n",
      "278851    3.956522\n",
      "278852    8.000000\n",
      "278854    5.250000\n",
      "Name: Book-Rating, Length: 105282, dtype: float64\n"
     ]
    }
   ],
   "source": [
    "#Calcular la media de calificaciones por usuario\n",
    "mean_ratings_by_user = ratings_df.groupby('User-ID')['Book-Rating'].mean()\n",
    "\n",
    "#Mostramos las medias de calificaciones\n",
    "print(mean_ratings_by_user)\n"
   ]
  },
  {
   "cell_type": "code",
   "execution_count": 130,
   "metadata": {},
   "outputs": [
    {
     "name": "stdout",
     "output_type": "stream",
     "text": [
      "Número de usuarios con una calificación media de 0: 27478\n",
      "Número de usuarios con más de una calificación y una calificación media de 0: 4929\n"
     ]
    }
   ],
   "source": [
    "#Mostramos el número de usuarios con una calificación media de 0\n",
    "numero_usuarios_media_cero = (mean_ratings_by_user == 0).sum()\n",
    "\n",
    "print(f\"Número de usuarios con una calificación media de 0: {numero_usuarios_media_cero}\")\n",
    "\n",
    "#Contar el número de calificaciones por usuario\n",
    "count_ratings_by_user = ratings_df.groupby('User-ID')['Book-Rating'].count()\n",
    "\n",
    "#Combinar los dos cálculos y filtrar a los usuarios que tienen una media de 0 y más de una calificación\n",
    "usuarios_con_media_cero_y_multiples_calificaciones = count_ratings_by_user[\n",
    "    (mean_ratings_by_user == 0) & (count_ratings_by_user > 1)\n",
    "].count()\n",
    "\n",
    "print(f\"Número de usuarios con más de una calificación y una calificación media de 0: {usuarios_con_media_cero_y_multiples_calificaciones}\")\n"
   ]
  },
  {
   "cell_type": "code",
   "execution_count": 131,
   "metadata": {},
   "outputs": [
    {
     "name": "stdout",
     "output_type": "stream",
     "text": [
      "Número de usuarios con más de una calificación y una calificación media de 0: 4929\n"
     ]
    }
   ],
   "source": [
    "#Usuarios a eliminar\n",
    "usuarios_a_eliminar = count_ratings_by_user[\n",
    "    (mean_ratings_by_user == 0) & (count_ratings_by_user > 1)\n",
    "].index\n",
    "\n",
    "#Los eliminamos\n",
    "ratings_df_limpio = ratings_df[~ratings_df['User-ID'].isin(usuarios_a_eliminar)]\n",
    "print(f\"Número de usuarios con más de una calificación y una calificación media de 0: {usuarios_con_media_cero_y_multiples_calificaciones}\")"
   ]
  },
  {
   "cell_type": "code",
   "execution_count": 132,
   "metadata": {},
   "outputs": [
    {
     "name": "stdout",
     "output_type": "stream",
     "text": [
      "Número de usuarios con más de una calificación y una calificación media de 0 después de la limpieza: 0\n"
     ]
    }
   ],
   "source": [
    "#Recalcular la media de calificaciones por usuario con el DataFrame actualizado\n",
    "mean_ratings_by_user_limpio = ratings_df_limpio.groupby('User-ID')['Book-Rating'].mean()\n",
    "\n",
    "#Recalcular el número de calificaciones por usuario con el DataFrame actualizado\n",
    "count_ratings_by_user_limpio = ratings_df_limpio.groupby('User-ID')['Book-Rating'].count()\n",
    "\n",
    "#Combinar los dos cálculos y contar a los usuarios que tienen una media de 0 y más de una calificación con los datos actualizados\n",
    "usuarios_con_media_cero_y_multiples_calificaciones_limpio = count_ratings_by_user_limpio[\n",
    "    (mean_ratings_by_user_limpio == 0) & (count_ratings_by_user_limpio > 1)\n",
    "].count()\n",
    "\n",
    "print(f\"Número de usuarios con más de una calificación y una calificación media de 0 después de la limpieza: {usuarios_con_media_cero_y_multiples_calificaciones_limpio}\")\n"
   ]
  },
  {
   "cell_type": "code",
   "execution_count": 133,
   "metadata": {},
   "outputs": [
    {
     "name": "stdout",
     "output_type": "stream",
     "text": [
      "4.394233228505474 3.4117771589396515\n"
     ]
    }
   ],
   "source": [
    "#Calculamos la media y desviación estándar de las calificaciones medias por usuario\n",
    "mean_ratings_by_user = ratings_df.groupby('User-ID')['Book-Rating'].mean()\n",
    "mean_of_means = mean_ratings_by_user.mean()\n",
    "std_of_means = mean_ratings_by_user.std()\n",
    "\n",
    "print(mean_of_means, std_of_means)\n"
   ]
  },
  {
   "cell_type": "markdown",
   "metadata": {},
   "source": [
    "Podemos acceder a estas medias a traves de el User-ID"
   ]
  },
  {
   "cell_type": "code",
   "execution_count": 134,
   "metadata": {},
   "outputs": [],
   "source": [
    "#Filtrar mean_ratings_by_user para eliminar usuarios sin calificaciones\n",
    "mean_ratings_by_user_filtrado = mean_ratings_by_user.dropna()"
   ]
  },
  {
   "cell_type": "code",
   "execution_count": 135,
   "metadata": {},
   "outputs": [
    {
     "name": "stdout",
     "output_type": "stream",
     "text": [
      "Media de calificaciones del usuario 11676: None\n",
      "Media de calificaciones del usuario 198711: 0.01629139072847682\n",
      "Media de calificaciones del usuario 153662: 2.786871828449828\n"
     ]
    }
   ],
   "source": [
    "#Ejemplo 1: Obtener la media de calificaciones del usuario con User-ID 11676\n",
    "media_usuario_11676 = mean_ratings_by_user.get(11676)\n",
    "print(f\"Media de calificaciones del usuario 11676: {media_usuario_11676}\")\n",
    "\n",
    "#Ejemplo 2: Obtener la media de calificaciones del usuario con User-ID 198711\n",
    "media_usuario_198711 = mean_ratings_by_user.get(198711)\n",
    "print(f\"Media de calificaciones del usuario 198711: {media_usuario_198711}\")\n",
    "\n",
    "#Ejemplo 3: Obtener la media de calificaciones del usuario con User-ID 153662\n",
    "media_usuario_153662 = mean_ratings_by_user.get(153662)\n",
    "print(f\"Media de calificaciones del usuario 153662: {media_usuario_153662}\")\n"
   ]
  },
  {
   "cell_type": "code",
   "execution_count": 136,
   "metadata": {},
   "outputs": [
    {
     "name": "stdout",
     "output_type": "stream",
     "text": [
      "El usuario 11676 ha hecho calificaciones: False\n"
     ]
    }
   ],
   "source": [
    "#Verificar si el usuario 11676 ha hecho alguna calificación\n",
    "usuario_11676_en_ratings = 11676 in ratings_df['User-ID'].values\n",
    "\n",
    "print(f\"El usuario 11676 ha hecho calificaciones: {usuario_11676_en_ratings}\")\n"
   ]
  },
  {
   "cell_type": "markdown",
   "metadata": {},
   "source": [
    "No tenemos usuarios con calificaciones medias sean mas de 2 desviaciones estandar por encima o debajo de la media, lo que indica una distribucion homologa.\n"
   ]
  },
  {
   "cell_type": "markdown",
   "metadata": {},
   "source": [
    "Guardamos el dataframe"
   ]
  },
  {
   "cell_type": "code",
   "execution_count": 137,
   "metadata": {},
   "outputs": [],
   "source": [
    "ratings_df.to_csv(r'C:\\Users\\Brais\\Desktop\\Overstand\\ratings_df.csv', index=False)\n"
   ]
  },
  {
   "cell_type": "markdown",
   "metadata": {},
   "source": [
    "heads de los 3 data frames para fusionarlos"
   ]
  },
  {
   "cell_type": "code",
   "execution_count": 138,
   "metadata": {},
   "outputs": [
    {
     "name": "stdout",
     "output_type": "stream",
     "text": [
      "         ISBN                                                                                          Book-Title           Book-Author  Year-Of-Publication                   Publisher\n",
      "0  0195153448                                                                                 Classical Mythology    Mark P. O. Morford               2002.0     Oxford University Press\n",
      "1  0002005018                                                                                        Clara Callan  Richard Bruce Wright               2001.0       HarperFlamingo Canada\n",
      "2  0060973129                                                                                Decision in Normandy          Carlo D'Este               1991.0             HarperPerennial\n",
      "3  0374157065  Flu: The Story of the Great Influenza Pandemic of 1918 and the Search for the Virus That Caused It      Gina Bari Kolata               1999.0        Farrar Straus Giroux\n",
      "4  0393045218                                                                              The Mummies of Urumchi       E. J. W. Barber               1999.0  W. W. Norton &amp; Company\n",
      "    User-ID                       Location   Age        Ciudad       País\n",
      "1         2      stockton, california, usa  18.0      stockton        usa\n",
      "3         4      porto, v.n.gaia, portugal  17.0         porto   portugal\n",
      "5         6  santa monica, california, usa  61.0  santa monica        usa\n",
      "9        10     albacete, wisconsin, spain  26.0      albacete      spain\n",
      "12       13    barcelona, barcelona, spain  26.0     barcelona      spain\n",
      "   User-ID        ISBN  Book-Rating\n",
      "0   276725  034545104X            0\n",
      "1   276726  0155061224            5\n",
      "2   276727  0446520802            0\n",
      "3   276729  052165615X            3\n",
      "4   276729  0521795028            6\n"
     ]
    }
   ],
   "source": [
    "\n",
    "print(books_df.head(5).to_string())\n",
    "print(users_df.head(5).to_string())\n",
    "print(ratings_df.head(5).to_string())"
   ]
  },
  {
   "cell_type": "markdown",
   "metadata": {},
   "source": [
    "COMBINACION DE DATAFRAMES"
   ]
  },
  {
   "cell_type": "code",
   "execution_count": 139,
   "metadata": {},
   "outputs": [],
   "source": [
    "combined_books_ratings_df = pd.merge(ratings_df, books_df, on='ISBN')"
   ]
  },
  {
   "cell_type": "code",
   "execution_count": 140,
   "metadata": {},
   "outputs": [],
   "source": [
    "final_combined_df = pd.merge(combined_books_ratings_df, users_df, on='User-ID')"
   ]
  },
  {
   "cell_type": "markdown",
   "metadata": {},
   "source": [
    "Guardamos el dataframe "
   ]
  },
  {
   "cell_type": "code",
   "execution_count": 141,
   "metadata": {},
   "outputs": [],
   "source": [
    "final_combined_df.to_csv(r'C:\\Users\\Brais\\Desktop\\Overstand\\final_combined_df.csv', index=False)"
   ]
  },
  {
   "cell_type": "markdown",
   "metadata": {},
   "source": [
    "Preparacion del modelo"
   ]
  },
  {
   "cell_type": "code",
   "execution_count": 142,
   "metadata": {},
   "outputs": [
    {
     "name": "stdout",
     "output_type": "stream",
     "text": [
      "0\n"
     ]
    }
   ],
   "source": [
    "#Cambiar el nombre del DataFrame\n",
    "model_df = final_combined_df.copy()\n",
    "ml_df = final_combined_df.copy()\n",
    "ml_df.to_csv(r'C:\\Users\\Brais\\Desktop\\Overstand\\ml_df.csv', index=False)\n",
    "\n",
    "#Nos aseguramos de que no hay valores nulos en 'Year-Of-Publication'\n",
    "print(model_df['Year-Of-Publication'].isnull().sum())\n",
    "\n",
    "#Convertir 'Year-Of-Publication' a int\n",
    "model_df['Year-Of-Publication'] = model_df['Year-Of-Publication'].astype(int)\n"
   ]
  },
  {
   "cell_type": "markdown",
   "metadata": {},
   "source": [
    "Vemos como year_of_publication ya no es un float."
   ]
  },
  {
   "cell_type": "code",
   "execution_count": 143,
   "metadata": {},
   "outputs": [
    {
     "name": "stdout",
     "output_type": "stream",
     "text": [
      "   User-ID        ISBN  Book-Rating                                                                        Book-Title                 Book-Author  Year-Of-Publication                      Publisher               Location   Age      Ciudad  País\n",
      "0     2313  034545104X            5                                                              Flesh Tones: A Novel                  M. J. Rose                 2002               Ballantine Books  cincinnati, ohio, usa  23.0  cincinnati   usa\n",
      "1     2313  0812533550            9                                     Ender's Game (Ender Wiggins Saga (Paperback))            Orson Scott Card                 1986                      Tor Books  cincinnati, ohio, usa  23.0  cincinnati   usa\n",
      "2     2313  0679745580            8                                             In Cold Blood (Vintage International)               TRUMAN CAPOTE                 1994                        Vintage  cincinnati, ohio, usa  23.0  cincinnati   usa\n",
      "3     2313  0060173289            9                                  Divine Secrets of the Ya-Ya Sisterhood : A Novel               Rebecca Wells                 1996                  HarperCollins  cincinnati, ohio, usa  23.0  cincinnati   usa\n",
      "4     2313  0385482388            5                                                            The Mistress of Spices  Chitra Banerjee Divakaruni                 1998         Anchor Books/Doubleday  cincinnati, ohio, usa  23.0  cincinnati   usa\n",
      "5     2313  0399146431            5                                                         The Bonesetter's Daughter                     Amy Tan                 2001        Putnam Publishing Group  cincinnati, ohio, usa  23.0  cincinnati   usa\n",
      "6     2313  0345348036            9  The Princess Bride: S Morgenstern's Classic Tale of True Love and High Adventure             WILLIAM GOLDMAN                 1987                        Del Rey  cincinnati, ohio, usa  23.0  cincinnati   usa\n",
      "7     2313  0553278223            7                                                            The Martian Chronicles                RAY BRADBURY                 1984                        Spectra  cincinnati, ohio, usa  23.0  cincinnati   usa\n",
      "8     2313  0449912558            0                                                                       The Sparrow          MARY DORIA RUSSELL                 1997                  Fawcett Books  cincinnati, ohio, usa  23.0  cincinnati   usa\n",
      "9     2313  0020442602            9                                                        Voyage of the Dawn Treader                 C. S. Lewis                 1970  MacMillan Publishing Company.  cincinnati, ohio, usa  23.0  cincinnati   usa\n"
     ]
    }
   ],
   "source": [
    "#Mostrar las primeras 10 filas de modelo_df\n",
    "print(model_df.head(10).to_string())\n",
    "model_df.to_csv(r'C:\\Users\\Brais\\Desktop\\Overstand\\model_df.csv', index=False)"
   ]
  },
  {
   "cell_type": "markdown",
   "metadata": {},
   "source": [
    "En el codigo de arriba, vemos que se nos muestra a User-ID, no es un error, "
   ]
  },
  {
   "cell_type": "markdown",
   "metadata": {},
   "source": [
    "En el codigo siguiente se ve que hay varias calificaciones con 0, en la fase de limpieza de datos, borramos a todos los usuarios cuyas calificaciones medias eran 0 habiendo hecho mas de 1 calificacion, por lo que consideramos estos datos como correctos"
   ]
  },
  {
   "cell_type": "code",
   "execution_count": 144,
   "metadata": {},
   "outputs": [
    {
     "name": "stdout",
     "output_type": "stream",
     "text": [
      "        User-ID        ISBN  Book-Rating                                                                                             Book-Title        Book-Author  Year-Of-Publication                       Publisher                                   Location   Age            Ciudad             País\n",
      "616763   242465  0440504813           10                                                                              The Cleaning Encyclopedia         Don Aslett                 1993           Bantam Dell Pub Group                   visalia, california, usa  36.0           visalia              usa\n",
      "184838    43246  0064408892            0                                                                                       A Is for AARRGH!  William J. Brooke                 2000    Harpercollins Juvenile Books                   toronto, ontario, canada  36.0           toronto           canada\n",
      "512708   248531  0446672211            0                                                     Where the Heart Is (Oprah's Book Club (Paperback))       Billie Letts                 1998                    Warner Books                         canby, oregon, usa  47.0             canby              usa\n",
      "615986    59820  0446670251            8                                                                                    The Virgin Suicides  Jeffrey Eugenides                 1994                    Warner Books                 centreville, virginia, usa  24.0       centreville              usa\n",
      "653181   236625  0060969911            9  Get Your Act Together!: A 7-Day Get-Organized Program for the Overworked, Overbooked, and Overwhelmed          Pam Young                 1993                       Perennial                     hampton, virginia, usa  38.0           hampton              usa\n",
      "295241   266866  0744568838            8                                                                A Saucepan on His Head (Read Me Poetry)           S. Ellis                 2001                    Walker Books  northamptonshire, england, united kingdom  33.0  northamptonshire   united kingdom\n",
      "105475   261829  0373765118            0                                                               The Cowboy's Baby Bargain  The Baby Bank        Emilie Rose                 2003                      Silhouette                               fpo, ap, usa  32.0               fpo              usa\n",
      "185789    46398  0809239973            6                                                               101 Ways to Make Your Child Feel Special      Vicki  Lansky                 1991  McGraw-Hill/Contemporary Books                    san antonio, texas, usa  37.0       san antonio              usa\n",
      "263482   206074  0821775863            0                                                                                     The Future Scrolls      Fern Michaels                 2003                     Zebra Books              new britain, connecticut, usa  16.0       new britain              usa\n",
      "260961   129358  0446363626            0                                                                                      All That Glitters         Susan Kyle                 1995                    Warner Books                  highland, california, usa  36.0          highland              usa\n"
     ]
    }
   ],
   "source": [
    "#Muestra aleatoria\n",
    "#Mostrar una muestra aleatoria de 10 filas de modelo_df\n",
    "print(model_df.sample(10).to_string())\n"
   ]
  },
  {
   "cell_type": "markdown",
   "metadata": {},
   "source": [
    "TRABAJAMOS EN EL MODELO ML.\n",
    "Basado en el contenido."
   ]
  },
  {
   "cell_type": "code",
   "execution_count": 145,
   "metadata": {},
   "outputs": [
    {
     "data": {
      "image/png": "[encoded data removed]",
      "text/plain": [
       "<Figure size 640x480 with 1 Axes>"
      ]
     },
     "metadata": {},
     "output_type": "display_data"
    }
   ],
   "source": [
    "sns.countplot(x='Book-Rating', data=model_df)\n",
    "plt.show()"
   ]
  },
  {
   "cell_type": "markdown",
   "metadata": {},
   "source": [
    "Debido al sistema de clasificacion, los valores 0 son asigandos de manera implicita asi que los eliminamos.\n",
    "\n"
   ]
  },
  {
   "cell_type": "code",
   "execution_count": 146,
   "metadata": {},
   "outputs": [
    {
     "data": {
      "image/png": "[encoded data removed]",
      "text/plain": [
       "<Figure size 640x480 with 1 Axes>"
      ]
     },
     "metadata": {},
     "output_type": "display_data"
    }
   ],
   "source": [
    "model_df = model_df[model_df['Book-Rating'] != 0]\n",
    "#Comprobamos\n",
    "sns.countplot(x='Book-Rating', data=model_df)\n",
    "plt.show()"
   ]
  },
  {
   "cell_type": "code",
   "execution_count": 147,
   "metadata": {},
   "outputs": [
    {
     "data": {
      "text/plain": [
       "User-ID                0\n",
       "ISBN                   0\n",
       "Book-Rating            0\n",
       "Book-Title             0\n",
       "Book-Author            0\n",
       "Year-Of-Publication    0\n",
       "Publisher              0\n",
       "Location               0\n",
       "Age                    0\n",
       "Ciudad                 0\n",
       "País                   0\n",
       "dtype: int64"
      ]
     },
     "execution_count": 147,
     "metadata": {},
     "output_type": "execute_result"
    }
   ],
   "source": [
    "#Eliminamos  valores nulos\n",
    "model_df = model_df.dropna()\n",
    "model_df.isna().sum()"
   ]
  },
  {
   "cell_type": "code",
   "execution_count": null,
   "metadata": {},
   "outputs": [],
   "source": []
  },
  {
   "cell_type": "code",
   "execution_count": 148,
   "metadata": {},
   "outputs": [
    {
     "data": {
      "text/html": [
       "<div>\n",
       "<style scoped>\n",
       "    .dataframe tbody tr th:only-of-type {\n",
       "        vertical-align: middle;\n",
       "    }\n",
       "\n",
       "    .dataframe tbody tr th {\n",
       "        vertical-align: top;\n",
       "    }\n",
       "\n",
       "    .dataframe thead th {\n",
       "        text-align: right;\n",
       "    }\n",
       "</style>\n",
       "<table border=\"1\" class=\"dataframe\">\n",
       "  <thead>\n",
       "    <tr style=\"text-align: right;\">\n",
       "      <th></th>\n",
       "      <th>User-ID</th>\n",
       "      <th>ISBN</th>\n",
       "      <th>Book-Rating</th>\n",
       "      <th>Book-Title</th>\n",
       "      <th>Book-Author</th>\n",
       "      <th>Year-Of-Publication</th>\n",
       "      <th>Publisher</th>\n",
       "      <th>Location</th>\n",
       "      <th>Age</th>\n",
       "      <th>Ciudad</th>\n",
       "      <th>País</th>\n",
       "    </tr>\n",
       "  </thead>\n",
       "  <tbody>\n",
       "    <tr>\n",
       "      <th>0</th>\n",
       "      <td>2313</td>\n",
       "      <td>034545104X</td>\n",
       "      <td>5</td>\n",
       "      <td>Flesh Tones: A Novel</td>\n",
       "      <td>M. J. Rose</td>\n",
       "      <td>2002</td>\n",
       "      <td>Ballantine Books</td>\n",
       "      <td>cincinnati, ohio, usa</td>\n",
       "      <td>23.0</td>\n",
       "      <td>cincinnati</td>\n",
       "      <td>usa</td>\n",
       "    </tr>\n",
       "    <tr>\n",
       "      <th>1</th>\n",
       "      <td>2313</td>\n",
       "      <td>0812533550</td>\n",
       "      <td>9</td>\n",
       "      <td>Ender's Game (Ender Wiggins Saga (Paperback))</td>\n",
       "      <td>Orson Scott Card</td>\n",
       "      <td>1986</td>\n",
       "      <td>Tor Books</td>\n",
       "      <td>cincinnati, ohio, usa</td>\n",
       "      <td>23.0</td>\n",
       "      <td>cincinnati</td>\n",
       "      <td>usa</td>\n",
       "    </tr>\n",
       "    <tr>\n",
       "      <th>2</th>\n",
       "      <td>2313</td>\n",
       "      <td>0679745580</td>\n",
       "      <td>8</td>\n",
       "      <td>In Cold Blood (Vintage International)</td>\n",
       "      <td>TRUMAN CAPOTE</td>\n",
       "      <td>1994</td>\n",
       "      <td>Vintage</td>\n",
       "      <td>cincinnati, ohio, usa</td>\n",
       "      <td>23.0</td>\n",
       "      <td>cincinnati</td>\n",
       "      <td>usa</td>\n",
       "    </tr>\n",
       "    <tr>\n",
       "      <th>3</th>\n",
       "      <td>2313</td>\n",
       "      <td>0060173289</td>\n",
       "      <td>9</td>\n",
       "      <td>Divine Secrets of the Ya-Ya Sisterhood : A Novel</td>\n",
       "      <td>Rebecca Wells</td>\n",
       "      <td>1996</td>\n",
       "      <td>HarperCollins</td>\n",
       "      <td>cincinnati, ohio, usa</td>\n",
       "      <td>23.0</td>\n",
       "      <td>cincinnati</td>\n",
       "      <td>usa</td>\n",
       "    </tr>\n",
       "    <tr>\n",
       "      <th>4</th>\n",
       "      <td>2313</td>\n",
       "      <td>0385482388</td>\n",
       "      <td>5</td>\n",
       "      <td>The Mistress of Spices</td>\n",
       "      <td>Chitra Banerjee Divakaruni</td>\n",
       "      <td>1998</td>\n",
       "      <td>Anchor Books/Doubleday</td>\n",
       "      <td>cincinnati, ohio, usa</td>\n",
       "      <td>23.0</td>\n",
       "      <td>cincinnati</td>\n",
       "      <td>usa</td>\n",
       "    </tr>\n",
       "    <tr>\n",
       "      <th>5</th>\n",
       "      <td>2313</td>\n",
       "      <td>0399146431</td>\n",
       "      <td>5</td>\n",
       "      <td>The Bonesetter's Daughter</td>\n",
       "      <td>Amy Tan</td>\n",
       "      <td>2001</td>\n",
       "      <td>Putnam Publishing Group</td>\n",
       "      <td>cincinnati, ohio, usa</td>\n",
       "      <td>23.0</td>\n",
       "      <td>cincinnati</td>\n",
       "      <td>usa</td>\n",
       "    </tr>\n",
       "    <tr>\n",
       "      <th>6</th>\n",
       "      <td>2313</td>\n",
       "      <td>0345348036</td>\n",
       "      <td>9</td>\n",
       "      <td>The Princess Bride: S Morgenstern's Classic Ta...</td>\n",
       "      <td>WILLIAM GOLDMAN</td>\n",
       "      <td>1987</td>\n",
       "      <td>Del Rey</td>\n",
       "      <td>cincinnati, ohio, usa</td>\n",
       "      <td>23.0</td>\n",
       "      <td>cincinnati</td>\n",
       "      <td>usa</td>\n",
       "    </tr>\n",
       "    <tr>\n",
       "      <th>7</th>\n",
       "      <td>2313</td>\n",
       "      <td>0553278223</td>\n",
       "      <td>7</td>\n",
       "      <td>The Martian Chronicles</td>\n",
       "      <td>RAY BRADBURY</td>\n",
       "      <td>1984</td>\n",
       "      <td>Spectra</td>\n",
       "      <td>cincinnati, ohio, usa</td>\n",
       "      <td>23.0</td>\n",
       "      <td>cincinnati</td>\n",
       "      <td>usa</td>\n",
       "    </tr>\n",
       "    <tr>\n",
       "      <th>9</th>\n",
       "      <td>2313</td>\n",
       "      <td>0020442602</td>\n",
       "      <td>9</td>\n",
       "      <td>Voyage of the Dawn Treader</td>\n",
       "      <td>C. S. Lewis</td>\n",
       "      <td>1970</td>\n",
       "      <td>MacMillan Publishing Company.</td>\n",
       "      <td>cincinnati, ohio, usa</td>\n",
       "      <td>23.0</td>\n",
       "      <td>cincinnati</td>\n",
       "      <td>usa</td>\n",
       "    </tr>\n",
       "    <tr>\n",
       "      <th>10</th>\n",
       "      <td>2313</td>\n",
       "      <td>0295955252</td>\n",
       "      <td>8</td>\n",
       "      <td>No-No Boy</td>\n",
       "      <td>John Okada</td>\n",
       "      <td>1978</td>\n",
       "      <td>University of Washington Press</td>\n",
       "      <td>cincinnati, ohio, usa</td>\n",
       "      <td>23.0</td>\n",
       "      <td>cincinnati</td>\n",
       "      <td>usa</td>\n",
       "    </tr>\n",
       "  </tbody>\n",
       "</table>\n",
       "</div>"
      ],
      "text/plain": [
       "    User-ID        ISBN  Book-Rating  \\\n",
       "0      2313  034545104X            5   \n",
       "1      2313  0812533550            9   \n",
       "2      2313  0679745580            8   \n",
       "3      2313  0060173289            9   \n",
       "4      2313  0385482388            5   \n",
       "5      2313  0399146431            5   \n",
       "6      2313  0345348036            9   \n",
       "7      2313  0553278223            7   \n",
       "9      2313  0020442602            9   \n",
       "10     2313  0295955252            8   \n",
       "\n",
       "                                           Book-Title  \\\n",
       "0                                Flesh Tones: A Novel   \n",
       "1       Ender's Game (Ender Wiggins Saga (Paperback))   \n",
       "2               In Cold Blood (Vintage International)   \n",
       "3    Divine Secrets of the Ya-Ya Sisterhood : A Novel   \n",
       "4                              The Mistress of Spices   \n",
       "5                           The Bonesetter's Daughter   \n",
       "6   The Princess Bride: S Morgenstern's Classic Ta...   \n",
       "7                              The Martian Chronicles   \n",
       "9                          Voyage of the Dawn Treader   \n",
       "10                                          No-No Boy   \n",
       "\n",
       "                   Book-Author  Year-Of-Publication  \\\n",
       "0                   M. J. Rose                 2002   \n",
       "1             Orson Scott Card                 1986   \n",
       "2                TRUMAN CAPOTE                 1994   \n",
       "3                Rebecca Wells                 1996   \n",
       "4   Chitra Banerjee Divakaruni                 1998   \n",
       "5                      Amy Tan                 2001   \n",
       "6              WILLIAM GOLDMAN                 1987   \n",
       "7                 RAY BRADBURY                 1984   \n",
       "9                  C. S. Lewis                 1970   \n",
       "10                  John Okada                 1978   \n",
       "\n",
       "                         Publisher               Location   Age      Ciudad  \\\n",
       "0                 Ballantine Books  cincinnati, ohio, usa  23.0  cincinnati   \n",
       "1                        Tor Books  cincinnati, ohio, usa  23.0  cincinnati   \n",
       "2                          Vintage  cincinnati, ohio, usa  23.0  cincinnati   \n",
       "3                    HarperCollins  cincinnati, ohio, usa  23.0  cincinnati   \n",
       "4           Anchor Books/Doubleday  cincinnati, ohio, usa  23.0  cincinnati   \n",
       "5          Putnam Publishing Group  cincinnati, ohio, usa  23.0  cincinnati   \n",
       "6                          Del Rey  cincinnati, ohio, usa  23.0  cincinnati   \n",
       "7                          Spectra  cincinnati, ohio, usa  23.0  cincinnati   \n",
       "9    MacMillan Publishing Company.  cincinnati, ohio, usa  23.0  cincinnati   \n",
       "10  University of Washington Press  cincinnati, ohio, usa  23.0  cincinnati   \n",
       "\n",
       "    País  \n",
       "0    usa  \n",
       "1    usa  \n",
       "2    usa  \n",
       "3    usa  \n",
       "4    usa  \n",
       "5    usa  \n",
       "6    usa  \n",
       "7    usa  \n",
       "9    usa  \n",
       "10   usa  "
      ]
     },
     "execution_count": 148,
     "metadata": {},
     "output_type": "execute_result"
    }
   ],
   "source": [
    "model_df.head(10)\n",
    "\n",
    "#print(model_df.info())"
   ]
  },
  {
   "cell_type": "code",
   "execution_count": 149,
   "metadata": {},
   "outputs": [],
   "source": [
    "#La columna age es float, la pasamos a int\n",
    "model_df['Age'] = model_df['Age'].astype('int64')\n"
   ]
  },
  {
   "cell_type": "code",
   "execution_count": 150,
   "metadata": {},
   "outputs": [
    {
     "data": {
      "text/html": [
       "<div>\n",
       "<style scoped>\n",
       "    .dataframe tbody tr th:only-of-type {\n",
       "        vertical-align: middle;\n",
       "    }\n",
       "\n",
       "    .dataframe tbody tr th {\n",
       "        vertical-align: top;\n",
       "    }\n",
       "\n",
       "    .dataframe thead th {\n",
       "        text-align: right;\n",
       "    }\n",
       "</style>\n",
       "<table border=\"1\" class=\"dataframe\">\n",
       "  <thead>\n",
       "    <tr style=\"text-align: right;\">\n",
       "      <th></th>\n",
       "      <th>User-ID</th>\n",
       "      <th>ISBN</th>\n",
       "      <th>Book-Rating</th>\n",
       "      <th>Book-Title</th>\n",
       "      <th>Book-Author</th>\n",
       "      <th>Year-Of-Publication</th>\n",
       "      <th>Publisher</th>\n",
       "      <th>Location</th>\n",
       "      <th>Age</th>\n",
       "      <th>Ciudad</th>\n",
       "      <th>País</th>\n",
       "    </tr>\n",
       "  </thead>\n",
       "  <tbody>\n",
       "    <tr>\n",
       "      <th>0</th>\n",
       "      <td>2313</td>\n",
       "      <td>034545104X</td>\n",
       "      <td>5</td>\n",
       "      <td>Flesh Tones: A Novel</td>\n",
       "      <td>M. J. Rose</td>\n",
       "      <td>2002</td>\n",
       "      <td>Ballantine Books</td>\n",
       "      <td>cincinnati, ohio, usa</td>\n",
       "      <td>23</td>\n",
       "      <td>cincinnati</td>\n",
       "      <td>usa</td>\n",
       "    </tr>\n",
       "    <tr>\n",
       "      <th>1</th>\n",
       "      <td>2313</td>\n",
       "      <td>0812533550</td>\n",
       "      <td>9</td>\n",
       "      <td>Ender's Game (Ender Wiggins Saga (Paperback))</td>\n",
       "      <td>Orson Scott Card</td>\n",
       "      <td>1986</td>\n",
       "      <td>Tor Books</td>\n",
       "      <td>cincinnati, ohio, usa</td>\n",
       "      <td>23</td>\n",
       "      <td>cincinnati</td>\n",
       "      <td>usa</td>\n",
       "    </tr>\n",
       "    <tr>\n",
       "      <th>2</th>\n",
       "      <td>2313</td>\n",
       "      <td>0679745580</td>\n",
       "      <td>8</td>\n",
       "      <td>In Cold Blood (Vintage International)</td>\n",
       "      <td>TRUMAN CAPOTE</td>\n",
       "      <td>1994</td>\n",
       "      <td>Vintage</td>\n",
       "      <td>cincinnati, ohio, usa</td>\n",
       "      <td>23</td>\n",
       "      <td>cincinnati</td>\n",
       "      <td>usa</td>\n",
       "    </tr>\n",
       "    <tr>\n",
       "      <th>3</th>\n",
       "      <td>2313</td>\n",
       "      <td>0060173289</td>\n",
       "      <td>9</td>\n",
       "      <td>Divine Secrets of the Ya-Ya Sisterhood : A Novel</td>\n",
       "      <td>Rebecca Wells</td>\n",
       "      <td>1996</td>\n",
       "      <td>HarperCollins</td>\n",
       "      <td>cincinnati, ohio, usa</td>\n",
       "      <td>23</td>\n",
       "      <td>cincinnati</td>\n",
       "      <td>usa</td>\n",
       "    </tr>\n",
       "    <tr>\n",
       "      <th>4</th>\n",
       "      <td>2313</td>\n",
       "      <td>0385482388</td>\n",
       "      <td>5</td>\n",
       "      <td>The Mistress of Spices</td>\n",
       "      <td>Chitra Banerjee Divakaruni</td>\n",
       "      <td>1998</td>\n",
       "      <td>Anchor Books/Doubleday</td>\n",
       "      <td>cincinnati, ohio, usa</td>\n",
       "      <td>23</td>\n",
       "      <td>cincinnati</td>\n",
       "      <td>usa</td>\n",
       "    </tr>\n",
       "  </tbody>\n",
       "</table>\n",
       "</div>"
      ],
      "text/plain": [
       "   User-ID        ISBN  Book-Rating  \\\n",
       "0     2313  034545104X            5   \n",
       "1     2313  0812533550            9   \n",
       "2     2313  0679745580            8   \n",
       "3     2313  0060173289            9   \n",
       "4     2313  0385482388            5   \n",
       "\n",
       "                                         Book-Title  \\\n",
       "0                              Flesh Tones: A Novel   \n",
       "1     Ender's Game (Ender Wiggins Saga (Paperback))   \n",
       "2             In Cold Blood (Vintage International)   \n",
       "3  Divine Secrets of the Ya-Ya Sisterhood : A Novel   \n",
       "4                            The Mistress of Spices   \n",
       "\n",
       "                  Book-Author  Year-Of-Publication               Publisher  \\\n",
       "0                  M. J. Rose                 2002        Ballantine Books   \n",
       "1            Orson Scott Card                 1986               Tor Books   \n",
       "2               TRUMAN CAPOTE                 1994                 Vintage   \n",
       "3               Rebecca Wells                 1996           HarperCollins   \n",
       "4  Chitra Banerjee Divakaruni                 1998  Anchor Books/Doubleday   \n",
       "\n",
       "                Location  Age      Ciudad  País  \n",
       "0  cincinnati, ohio, usa   23  cincinnati   usa  \n",
       "1  cincinnati, ohio, usa   23  cincinnati   usa  \n",
       "2  cincinnati, ohio, usa   23  cincinnati   usa  \n",
       "3  cincinnati, ohio, usa   23  cincinnati   usa  \n",
       "4  cincinnati, ohio, usa   23  cincinnati   usa  "
      ]
     },
     "execution_count": 150,
     "metadata": {},
     "output_type": "execute_result"
    }
   ],
   "source": [
    "#Comprobamos cambios\n",
    "model_df.head()"
   ]
  },
  {
   "cell_type": "markdown",
   "metadata": {},
   "source": [
    "Borramos la columna \"Location\" en el dataset"
   ]
  },
  {
   "cell_type": "code",
   "execution_count": 151,
   "metadata": {},
   "outputs": [
    {
     "data": {
      "text/html": [
       "<div>\n",
       "<style scoped>\n",
       "    .dataframe tbody tr th:only-of-type {\n",
       "        vertical-align: middle;\n",
       "    }\n",
       "\n",
       "    .dataframe tbody tr th {\n",
       "        vertical-align: top;\n",
       "    }\n",
       "\n",
       "    .dataframe thead th {\n",
       "        text-align: right;\n",
       "    }\n",
       "</style>\n",
       "<table border=\"1\" class=\"dataframe\">\n",
       "  <thead>\n",
       "    <tr style=\"text-align: right;\">\n",
       "      <th></th>\n",
       "      <th>User-ID</th>\n",
       "      <th>ISBN</th>\n",
       "      <th>Book-Rating</th>\n",
       "      <th>Book-Title</th>\n",
       "      <th>Book-Author</th>\n",
       "      <th>Year-Of-Publication</th>\n",
       "      <th>Publisher</th>\n",
       "      <th>Age</th>\n",
       "      <th>Ciudad</th>\n",
       "      <th>País</th>\n",
       "    </tr>\n",
       "  </thead>\n",
       "  <tbody>\n",
       "    <tr>\n",
       "      <th>0</th>\n",
       "      <td>2313</td>\n",
       "      <td>034545104X</td>\n",
       "      <td>5</td>\n",
       "      <td>Flesh Tones: A Novel</td>\n",
       "      <td>M. J. Rose</td>\n",
       "      <td>2002</td>\n",
       "      <td>Ballantine Books</td>\n",
       "      <td>23</td>\n",
       "      <td>cincinnati</td>\n",
       "      <td>usa</td>\n",
       "    </tr>\n",
       "    <tr>\n",
       "      <th>1</th>\n",
       "      <td>2313</td>\n",
       "      <td>0812533550</td>\n",
       "      <td>9</td>\n",
       "      <td>Ender's Game (Ender Wiggins Saga (Paperback))</td>\n",
       "      <td>Orson Scott Card</td>\n",
       "      <td>1986</td>\n",
       "      <td>Tor Books</td>\n",
       "      <td>23</td>\n",
       "      <td>cincinnati</td>\n",
       "      <td>usa</td>\n",
       "    </tr>\n",
       "    <tr>\n",
       "      <th>2</th>\n",
       "      <td>2313</td>\n",
       "      <td>0679745580</td>\n",
       "      <td>8</td>\n",
       "      <td>In Cold Blood (Vintage International)</td>\n",
       "      <td>TRUMAN CAPOTE</td>\n",
       "      <td>1994</td>\n",
       "      <td>Vintage</td>\n",
       "      <td>23</td>\n",
       "      <td>cincinnati</td>\n",
       "      <td>usa</td>\n",
       "    </tr>\n",
       "    <tr>\n",
       "      <th>3</th>\n",
       "      <td>2313</td>\n",
       "      <td>0060173289</td>\n",
       "      <td>9</td>\n",
       "      <td>Divine Secrets of the Ya-Ya Sisterhood : A Novel</td>\n",
       "      <td>Rebecca Wells</td>\n",
       "      <td>1996</td>\n",
       "      <td>HarperCollins</td>\n",
       "      <td>23</td>\n",
       "      <td>cincinnati</td>\n",
       "      <td>usa</td>\n",
       "    </tr>\n",
       "    <tr>\n",
       "      <th>4</th>\n",
       "      <td>2313</td>\n",
       "      <td>0385482388</td>\n",
       "      <td>5</td>\n",
       "      <td>The Mistress of Spices</td>\n",
       "      <td>Chitra Banerjee Divakaruni</td>\n",
       "      <td>1998</td>\n",
       "      <td>Anchor Books/Doubleday</td>\n",
       "      <td>23</td>\n",
       "      <td>cincinnati</td>\n",
       "      <td>usa</td>\n",
       "    </tr>\n",
       "  </tbody>\n",
       "</table>\n",
       "</div>"
      ],
      "text/plain": [
       "   User-ID        ISBN  Book-Rating  \\\n",
       "0     2313  034545104X            5   \n",
       "1     2313  0812533550            9   \n",
       "2     2313  0679745580            8   \n",
       "3     2313  0060173289            9   \n",
       "4     2313  0385482388            5   \n",
       "\n",
       "                                         Book-Title  \\\n",
       "0                              Flesh Tones: A Novel   \n",
       "1     Ender's Game (Ender Wiggins Saga (Paperback))   \n",
       "2             In Cold Blood (Vintage International)   \n",
       "3  Divine Secrets of the Ya-Ya Sisterhood : A Novel   \n",
       "4                            The Mistress of Spices   \n",
       "\n",
       "                  Book-Author  Year-Of-Publication               Publisher  \\\n",
       "0                  M. J. Rose                 2002        Ballantine Books   \n",
       "1            Orson Scott Card                 1986               Tor Books   \n",
       "2               TRUMAN CAPOTE                 1994                 Vintage   \n",
       "3               Rebecca Wells                 1996           HarperCollins   \n",
       "4  Chitra Banerjee Divakaruni                 1998  Anchor Books/Doubleday   \n",
       "\n",
       "   Age      Ciudad  País  \n",
       "0   23  cincinnati   usa  \n",
       "1   23  cincinnati   usa  \n",
       "2   23  cincinnati   usa  \n",
       "3   23  cincinnati   usa  \n",
       "4   23  cincinnati   usa  "
      ]
     },
     "execution_count": 151,
     "metadata": {},
     "output_type": "execute_result"
    }
   ],
   "source": [
    "model_df = model_df.drop('Location', axis=1)\n",
    "#Comprobamos cambios\n",
    "model_df.head()"
   ]
  },
  {
   "cell_type": "code",
   "execution_count": 152,
   "metadata": {},
   "outputs": [],
   "source": [
    "model_df.to_csv(r'C:\\Users\\Brais\\Desktop\\Overstand\\df_limpio.csv', index=False)"
   ]
  }
 ],
 "metadata": {
  "kernelspec": {
   "display_name": "Python 3",
   "language": "python",
   "name": "python3"
  },
  "language_info": {
   "codemirror_mode": {
    "name": "ipython",
    "version": 3
   },
   "file_extension": ".py",
   "mimetype": "text/x-python",
   "name": "python",
   "nbconvert_exporter": "python",
   "pygments_lexer": "ipython3",
   "version": "3.11.4"
  }
 },
 "nbformat": 4,
 "nbformat_minor": 2
}
